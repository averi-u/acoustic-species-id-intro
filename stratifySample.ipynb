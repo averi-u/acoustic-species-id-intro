{
 "cells": [
  {
   "cell_type": "code",
   "execution_count": 244,
   "id": "b0e4d19c-5539-48ac-b108-889fc5878460",
   "metadata": {},
   "outputs": [
    {
     "data": {
      "text/plain": [
       "True"
      ]
     },
     "execution_count": 244,
     "metadata": {},
     "output_type": "execute_result"
    }
   ],
   "source": [
    "import pandas as pd \n",
    "#pandas.__version__\n",
    "import numpy as np\n",
    "from pathlib import Path \n",
    "import warnings\n",
    "warnings.filterwarnings(\"ignore\") #temporarily suppress the mixedtype data warning\n",
    "\n",
    "def stratifiedSample(csv_path): #pass in the file path \n",
    "    # df = pd.read_csv('/Users/zhizhenyu/Desktop/Project/E4E/Intro/Peru_2019_AudioMoth_Data_Full.csv')\n",
    "    df = pd.read_csv(csv_path)\n",
    "\n",
    "    #The first strata layer to be represented by each Audiomoth device.\n",
    "    df1 = df\n",
    "    while True: \n",
    "        s = df1['AudioMothCode'].sample(n=1, replace=False, random_state=1)\n",
    "        tempstr = str(s)[9:14]\n",
    "        #exclude the broken the audiomoths\n",
    "        if \"AM-21\" in tempstr:\n",
    "            continue\n",
    "        if \"AM-19\" in tempstr:\n",
    "            continue\n",
    "        if \"AM-28\" in tempstr:\n",
    "            continue\n",
    "        if \"AM-8\" in tempstr:\n",
    "            continue\n",
    "        listAM = df[df['AudioMothCode'] == tempstr]\n",
    "        cnt = len(listAM.index)\n",
    "        if cnt >= 24:\n",
    "            break\n",
    "\n",
    "    #The second strata layer to be represented by the hours of the day.\n",
    "    list1 = df[(df['Duration'] >= 60) & (df['AudioMothCode'] == tempstr) \n",
    "               & (df['StartDateTime'] >= \"16.06.2019 00:00\") & (df['StartDateTime'] < \"16.06.2019 01:00\")]\n",
    "    out_csv = list1.sample(n=1, replace=False, random_state=1)  \n",
    "\n",
    "    i = 1\n",
    "    while (i < 9):\n",
    "        lists = df[(df['Duration'] >= 60) & (df['AudioMothCode'] == tempstr)\n",
    "               & (df['StartDateTime'] >= (\"16.06.2019 0\"+str(i)+\":00\")) \n",
    "                  & (df['StartDateTime'] < (\"16.06.2019 0\"+str(i+1)+\":00\"))]\n",
    "        if (len(lists) != 0):\n",
    "            li = lists.sample()\n",
    "            out_csv = out_csv.append(li)\n",
    "        i=i+1\n",
    "        \n",
    "    lists = df[(df['Duration'] >= 60) & (df['AudioMothCode'] == tempstr)\n",
    "               & (df['StartDateTime'] >= (\"16.06.2019 0\"+str(i)+\":00\")) \n",
    "                  & (df['StartDateTime'] < (\"16.06.2019 \"+str(i+1)+\":00\"))]\n",
    "    if (len(lists) != 0):\n",
    "            li = lists.sample()\n",
    "            out_csv = out_csv.append(li)\n",
    "    i=i+1\n",
    "    while (i < 24):\n",
    "        lists = df[(df['Duration'] >= 60) & (df['AudioMothCode'] == tempstr)\n",
    "               & (df['StartDateTime'] >= (\"16.06.2019 \"+str(i)+\":00\")) \n",
    "                  & (df['StartDateTime'] < (\"16.06.2019 \"+str(i+1)+\":00\"))]\n",
    "        if (len(lists) != 0):\n",
    "            li = lists.sample()\n",
    "            out_csv = out_csv.append(li)\n",
    "        i=i+1\n",
    "\n",
    "\n",
    "    #Write to a new folder \n",
    "    # filepath = Path('/Users/zhizhenyu/Desktop/Project/E4E/Intro/out_csv.csv')\n",
    "    # filepath.parent.mkdir(parents=True, exist_ok=True)  \n",
    "    # out_csv.to_csv(filepath)\n",
    "\n",
    "    out_csv.to_csv()\n",
    "    if (len(out_csv) == 24):\n",
    "        return True\n",
    "    else :\n",
    "        return len(out_csv)\n",
    "\n",
    "# testing\n",
    "# stratifiedSample('/Users/zhizhenyu/Desktop/Project/E4E/Intro/Peru_2019_AudioMoth_Data_Full.csv')"
   ]
  }
 ],
 "metadata": {
  "kernelspec": {
   "display_name": "Python 3 (ipykernel)",
   "language": "python",
   "name": "python3"
  },
  "language_info": {
   "codemirror_mode": {
    "name": "ipython",
    "version": 3
   },
   "file_extension": ".py",
   "mimetype": "text/x-python",
   "name": "python",
   "nbconvert_exporter": "python",
   "pygments_lexer": "ipython3",
   "version": "3.9.12"
  }
 },
 "nbformat": 4,
 "nbformat_minor": 5
}
